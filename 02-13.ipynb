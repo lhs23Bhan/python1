{
 "cells": [
  {
   "cell_type": "code",
   "execution_count": 1,
   "id": "1f46e174",
   "metadata": {},
   "outputs": [],
   "source": [
    "import requests\n",
    "res = requests.get('http://ggoreb.com/quiz/소나기.txt')\n",
    "res.encoding = None\n",
    "text= res.text\n"
   ]
  },
  {
   "cell_type": "code",
   "execution_count": 8,
   "id": "b5fdc49d",
   "metadata": {},
   "outputs": [
    {
     "name": "stdout",
     "output_type": "stream",
     "text": [
      "칡덩굴이 엉키어 꽃을 달고 있었다.\n",
      "칡덩굴을 그러쥐었다.\n",
      "칡덩굴 있는 데로 내려가, 꽃많이 달린 몇 줄기를 이빨로 끊어 가지고 올라온다.\n"
     ]
    }
   ],
   "source": [
    "위치=0\n",
    "while True:\n",
    "    위치 = text.find('칡',위치)\n",
    "    마침표 = text.find('.',위치)\n",
    "    if 위치 ==-1: break\n",
    "    print(text[위치:마침표+1].replace('\\n',''))\n",
    "    위치 = 위치 +1\n"
   ]
  },
  {
   "cell_type": "code",
   "execution_count": 11,
   "id": "6699ed97",
   "metadata": {},
   "outputs": [
    {
     "name": "stdout",
     "output_type": "stream",
     "text": [
      "개수 :20\n"
     ]
    }
   ],
   "source": [
    "count=0\n",
    "for i in range(1,101):\n",
    "    count += list(str(i)).count('3')\n",
    "print('개수 :'+str(count))"
   ]
  },
  {
   "cell_type": "code",
   "execution_count": 12,
   "id": "6bb309d6",
   "metadata": {},
   "outputs": [
    {
     "name": "stdout",
     "output_type": "stream",
     "text": [
      "fail\n"
     ]
    }
   ],
   "source": [
    "#조건부 표현식 = 한줄로 표현하기\n",
    "score = 40\n",
    "print('pass') if score >=60 else print('fail')"
   ]
  },
  {
   "cell_type": "code",
   "execution_count": 17,
   "id": "f3c11944",
   "metadata": {},
   "outputs": [],
   "source": [
    "# while = 무한반복 갯수,횟수를 모를때 사용 \n",
    "#for =list,dictionary 와 같은 복수개의 자료를 활용할 때 -갯수,횟수를 알고있을때\n"
   ]
  },
  {
   "cell_type": "code",
   "execution_count": 16,
   "id": "7f835a42",
   "metadata": {},
   "outputs": [
    {
     "name": "stdout",
     "output_type": "stream",
     "text": [
      "추출된숫자: 8\n",
      "추출된숫자: 9\n",
      "추출된숫자: 1\n",
      "추출된숫자: 3\n",
      "추출된숫자: 3\n",
      "추출된숫자: 2\n",
      "추출된숫자: 2\n",
      "추출된숫자: 5\n"
     ]
    }
   ],
   "source": [
    "#break = 억지로 중간에서 멈추는것 (while 문에서 자주사용)\n",
    "#랜덤 함수 출력\n",
    "import random\n",
    "while True:\n",
    "    number= random.randint(1,10)\n",
    "    print('추출된숫자: %d' % number)\n",
    "    if number ==5:\n",
    "        break\n",
    "\n"
   ]
  },
  {
   "cell_type": "code",
   "execution_count": 305,
   "id": "6e2c29a7",
   "metadata": {},
   "outputs": [
    {
     "data": {
      "text/plain": [
       "3"
      ]
     },
     "execution_count": 305,
     "metadata": {},
     "output_type": "execute_result"
    }
   ],
   "source": [
    "import random\n",
    "a=random.random()\n",
    "b=int(a*6) +1\n",
    "b\n",
    "#0.0 <=1.0"
   ]
  },
  {
   "cell_type": "code",
   "execution_count": 307,
   "id": "87dc4647",
   "metadata": {},
   "outputs": [
    {
     "data": {
      "text/plain": [
       "1676252946.8486912"
      ]
     },
     "execution_count": 307,
     "metadata": {},
     "output_type": "execute_result"
    }
   ],
   "source": [
    "import time\n",
    "time.time()\n",
    "\n",
    "#Unix time 16억초"
   ]
  },
  {
   "cell_type": "code",
   "execution_count": 360,
   "id": "2cf08525",
   "metadata": {
    "scrolled": true
   },
   "outputs": [
    {
     "name": "stdout",
     "output_type": "stream",
     "text": [
      "19\n",
      "25\n",
      "34\n",
      "28\n",
      "6\n",
      "33\n",
      "[19, 25, 34, 28, 6, 33]\n"
     ]
    }
   ],
   "source": [
    "import random\n",
    "lotto=[]\n",
    "for i in range(6):\n",
    "    a=random.randint(1,45)\n",
    "    \n",
    "    lotto.append(a)\n",
    "    print(a)\n",
    "    \n",
    "    \n",
    "print(lotto)"
   ]
  },
  {
   "cell_type": "code",
   "execution_count": 381,
   "id": "e34364ad",
   "metadata": {},
   "outputs": [
    {
     "name": "stdout",
     "output_type": "stream",
     "text": [
      "[1, 17, 25, 29, 41, 43]\n"
     ]
    }
   ],
   "source": [
    "import random\n",
    "lotto=set()  #집합으로 생성 #set은 중복허용하지않음 #정렬하지않음\n",
    "while True:\n",
    "    n=random.randint(1,45)\n",
    "    lotto.add(n)\n",
    "    if len(lotto) == 6:\n",
    "        break\n",
    "lotto =list(lotto)          #리스트로 만들어서\n",
    "lotto.sort()                #순서대로 정렬\n",
    "print(lotto)"
   ]
  },
  {
   "cell_type": "code",
   "execution_count": null,
   "id": "10d6b6f9",
   "metadata": {},
   "outputs": [],
   "source": [
    "#list comprehension = 한줄로 만들기\n",
    "# [표현식 for 항목 in 반복가능 객체 if 조건]"
   ]
  },
  {
   "cell_type": "code",
   "execution_count": 395,
   "id": "4b1e315e",
   "metadata": {
    "scrolled": true
   },
   "outputs": [
    {
     "data": {
      "text/plain": [
       "'ABCDEFGHIJKLMNOPQRSTUVWXYZ'"
      ]
     },
     "execution_count": 395,
     "metadata": {},
     "output_type": "execute_result"
    }
   ],
   "source": [
    "li=[ chr(i) for i in range(ord('A'),ord('Z')+1)]\n",
    "''.join(li)"
   ]
  },
  {
   "cell_type": "code",
   "execution_count": 396,
   "id": "12423393",
   "metadata": {
    "collapsed": true
   },
   "outputs": [
    {
     "name": "stdout",
     "output_type": "stream",
     "text": [
      "Requirement already satisfied: matplotlib in c:\\users\\admin\\appdata\\local\\programs\\python\\python311\\lib\\site-packages (3.6.3)\n",
      "Requirement already satisfied: contourpy>=1.0.1 in c:\\users\\admin\\appdata\\local\\programs\\python\\python311\\lib\\site-packages (from matplotlib) (1.0.7)\n",
      "Requirement already satisfied: cycler>=0.10 in c:\\users\\admin\\appdata\\local\\programs\\python\\python311\\lib\\site-packages (from matplotlib) (0.11.0)\n",
      "Requirement already satisfied: fonttools>=4.22.0 in c:\\users\\admin\\appdata\\local\\programs\\python\\python311\\lib\\site-packages (from matplotlib) (4.38.0)\n",
      "Requirement already satisfied: kiwisolver>=1.0.1 in c:\\users\\admin\\appdata\\local\\programs\\python\\python311\\lib\\site-packages (from matplotlib) (1.4.4)\n",
      "Requirement already satisfied: numpy>=1.19 in c:\\users\\admin\\appdata\\local\\programs\\python\\python311\\lib\\site-packages (from matplotlib) (1.24.2)\n",
      "Requirement already satisfied: packaging>=20.0 in c:\\users\\admin\\appdata\\local\\programs\\python\\python311\\lib\\site-packages (from matplotlib) (23.0)\n",
      "Requirement already satisfied: pillow>=6.2.0 in c:\\users\\admin\\appdata\\local\\programs\\python\\python311\\lib\\site-packages (from matplotlib) (9.4.0)\n",
      "Requirement already satisfied: pyparsing>=2.2.1 in c:\\users\\admin\\appdata\\local\\programs\\python\\python311\\lib\\site-packages (from matplotlib) (3.0.9)\n",
      "Requirement already satisfied: python-dateutil>=2.7 in c:\\users\\admin\\appdata\\local\\programs\\python\\python311\\lib\\site-packages (from matplotlib) (2.8.2)\n",
      "Requirement already satisfied: six>=1.5 in c:\\users\\admin\\appdata\\local\\programs\\python\\python311\\lib\\site-packages (from python-dateutil>=2.7->matplotlib) (1.16.0)\n"
     ]
    }
   ],
   "source": [
    "!pip install matplotlib"
   ]
  },
  {
   "cell_type": "code",
   "execution_count": 406,
   "id": "5808412d",
   "metadata": {},
   "outputs": [
    {
     "data": {
      "text/plain": [
       "[<matplotlib.lines.Line2D at 0x207f30b11d0>]"
      ]
     },
     "execution_count": 406,
     "metadata": {},
     "output_type": "execute_result"
    },
    {
     "data": {
      "image/png": "[encoded data removed]",
      "text/plain": [
       "<Figure size 640x480 with 1 Axes>"
      ]
     },
     "metadata": {},
     "output_type": "display_data"
    }
   ],
   "source": [
    "import matplotlib.pyplot     #그래프 작성\n",
    "matplotlib.pyplot.plot([11,44,22,66,44,33,22])\n"
   ]
  },
  {
   "cell_type": "code",
   "execution_count": 401,
   "id": "2ae7b318",
   "metadata": {},
   "outputs": [
    {
     "name": "stdout",
     "output_type": "stream",
     "text": [
      "15\n"
     ]
    }
   ],
   "source": [
    "def plus(a,b):    # 함수 사용\n",
    "    return a + b\n",
    "\n",
    "\n",
    "\n",
    "x=10\n",
    "y=5\n",
    "\n",
    "result =plus(x,y) # result = plus(10,5)\n",
    "print(result)"
   ]
  },
  {
   "cell_type": "code",
   "execution_count": 415,
   "id": "7e13ba71",
   "metadata": {
    "scrolled": true
   },
   "outputs": [
    {
     "name": "stdout",
     "output_type": "stream",
     "text": [
      "aaa!!\n"
     ]
    }
   ],
   "source": [
    "def a():\n",
    "     print('aaa!!')\n",
    "result=a\n",
    "result()"
   ]
  },
  {
   "cell_type": "code",
   "execution_count": 430,
   "id": "95d7013b",
   "metadata": {},
   "outputs": [
    {
     "name": "stdout",
     "output_type": "stream",
     "text": [
      "수박수박\n",
      "수박수"
     ]
    }
   ],
   "source": [
    "n=3\n",
    "for i in range(n):\n",
    "    if i%2==0:\n",
    "        print('수',end='')\n",
    "    else:\n",
    "        print('박',end='')\n",
    "\n",
    "    "
   ]
  },
  {
   "cell_type": "code",
   "execution_count": 434,
   "id": "26327adf",
   "metadata": {
    "scrolled": true
   },
   "outputs": [
    {
     "name": "stdout",
     "output_type": "stream",
     "text": [
      "수박수"
     ]
    }
   ],
   "source": [
    "n=3\n",
    "def 수박(x):\n",
    "    반=x//2\n",
    "    print(반*'수박',end='')\n",
    "\n",
    "    if n%2 !=0:\n",
    "        print('수',end='')\n",
    "    \n",
    "    \n",
    "수박(n)"
   ]
  },
  {
   "cell_type": "code",
   "execution_count": 437,
   "id": "dc31ab3a",
   "metadata": {
    "scrolled": false
   },
   "outputs": [
    {
     "data": {
      "text/plain": [
       "'수박수'"
      ]
     },
     "execution_count": 437,
     "metadata": {},
     "output_type": "execute_result"
    }
   ],
   "source": [
    "n=3\n",
    "def 수박(x):\n",
    "    buffer=''\n",
    "    반=x//2\n",
    "    buffer +=(반*'수박')\n",
    "\n",
    "    if n%2 !=0:\n",
    "        buffer +='수'\n",
    "        \n",
    "        \n",
    "    return buffer\n",
    "    \n",
    "    \n",
    "수박(n)"
   ]
  },
  {
   "cell_type": "code",
   "execution_count": 458,
   "id": "0039d2f1",
   "metadata": {},
   "outputs": [
    {
     "name": "stdout",
     "output_type": "stream",
     "text": [
      "7\n"
     ]
    }
   ],
   "source": [
    "n=124\n",
    "def 합구하기(n):\n",
    "    합=0\n",
    "    while True:\n",
    "        자리수 = n %10\n",
    "        합 += 자리수\n",
    "        n//=10\n",
    "        if n ==0:\n",
    "            break\n",
    "    print(합)\n",
    "\n",
    "\n",
    "합구하기(n)"
   ]
  },
  {
   "cell_type": "code",
   "execution_count": 466,
   "id": "e337a51f",
   "metadata": {},
   "outputs": [
    {
     "data": {
      "text/plain": [
       "[<matplotlib.lines.Line2D at 0x207f553b010>]"
      ]
     },
     "execution_count": 466,
     "metadata": {},
     "output_type": "execute_result"
    },
    {
     "data": {
      "image/png": "[encoded data removed]",
      "text/plain": [
       "<Figure size 640x480 with 1 Axes>"
      ]
     },
     "metadata": {},
     "output_type": "display_data"
    }
   ],
   "source": [
    "import matplotlib.pyplot  \n",
    "data=['1','22','3','44','5']\n",
    "data=list ( map(lambda x: int(x),data))#리스트의 문자를 숫자로 변경 "
   ]
  },
  {
   "cell_type": "code",
   "execution_count": 474,
   "id": "1909e83e",
   "metadata": {},
   "outputs": [
    {
     "data": {
      "text/plain": [
       "'1시 3 분 20 초'"
      ]
     },
     "execution_count": 474,
     "metadata": {},
     "output_type": "execute_result"
    }
   ],
   "source": [
    "# 시간 계산\n",
    "# \n",
    "\n",
    "문제= 3800\n",
    "시간 = 문제 // (60* 60)  \n",
    "\n",
    "분 = (문제%3600)// 60 \n",
    "분\n",
    "\n",
    "\n",
    "초 = (문제%60)\n",
    "초\n",
    "'%s시 %s 분 %s 초' %(시간,분,초)\n"
   ]
  },
  {
   "cell_type": "code",
   "execution_count": 476,
   "id": "1b0d0638",
   "metadata": {
    "scrolled": false
   },
   "outputs": [
    {
     "data": {
      "text/plain": [
       "104857600"
      ]
     },
     "execution_count": 476,
     "metadata": {},
     "output_type": "execute_result"
    }
   ],
   "source": [
    "\n",
    "#8bit = 1Byte\n",
    "#1024Byte== 1KByte\n",
    "#1024KByte == 1GByte\n",
    "#1024GByte == 1TByte\n",
    "파일업로드최대용량 =1024 * 1024 *100\n",
    "파일업로드최대용량\n"
   ]
  },
  {
   "cell_type": "code",
   "execution_count": 504,
   "id": "2b576e10",
   "metadata": {
    "scrolled": false
   },
   "outputs": [
    {
     "data": {
      "text/plain": [
       "[[17, 24, 1, 8, 15],\n",
       " [23, 5, 7, 14, 16],\n",
       " [4, 6, 13, 20, 22],\n",
       " [10, 12, 19, 21, 3],\n",
       " [11, 18, 25, 2, 9]]"
      ]
     },
     "execution_count": 504,
     "metadata": {},
     "output_type": "execute_result"
    }
   ],
   "source": [
    "m =[ [0 for i in range(5)] for j in range(5) ]\n",
    "row=0\n",
    "col=2\n",
    "m[row][col]=1\n",
    "\n",
    "for i in range(2,26):\n",
    "    tabrow=row\n",
    "    tabcol=col\n",
    "    row -= 1\n",
    "    col += 1\n",
    "    if row <0:\n",
    "        row=4\n",
    "    if col >4:\n",
    "        col=0\n",
    "    if m[row][col] !=0:\n",
    "#         row+=2\n",
    "#         col-=1\n",
    "        row = tabrow+1\n",
    "        col = tabcol\n",
    "    m[row][col] = i\n",
    "    \n",
    "m\n",
    "     \n",
    "\n",
    "\n",
    "\n",
    "\n",
    "#행이 음수가될경우\n",
    "#열이 나갈경우\n",
    "#이동하려는 위치에 값이있는경우"
   ]
  },
  {
   "cell_type": "code",
   "execution_count": null,
   "id": "26014305",
   "metadata": {},
   "outputs": [],
   "source": [
    "import random\n",
    "big= [i for i in range(1,26)]\n",
    "radom.rand"
   ]
  }
 ],
 "metadata": {
  "kernelspec": {
   "display_name": "Python 3 (ipykernel)",
   "language": "python",
   "name": "python3"
  },
  "language_info": {
   "codemirror_mode": {
    "name": "ipython",
    "version": 3
   },
   "file_extension": ".py",
   "mimetype": "text/x-python",
   "name": "python",
   "nbconvert_exporter": "python",
   "pygments_lexer": "ipython3",
   "version": "3.11.1"
  }
 },
 "nbformat": 4,
 "nbformat_minor": 5
}
